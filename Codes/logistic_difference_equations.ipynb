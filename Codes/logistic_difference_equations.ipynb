{
 "cells": [
  {
   "cell_type": "markdown",
   "metadata": {},
   "source": [
    "$Logistic$ $Difference$ $Equations$"
   ]
  },
  {
   "cell_type": "markdown",
   "metadata": {},
   "source": [
    "With $M, r, y_0 > 0$, the logistic difference equation is defined, For $n \\in \\mathbb R$. \n",
    "\n",
    "as $y_n := y_n-_1 + ry_n-_1(M - y_n-_1).$"
   ]
  },
  {
   "cell_type": "markdown",
   "metadata": {},
   "source": [
    "$M_b:=48000$\n",
    "\n",
    "$y_0=1$ for $n\\in \\mathbb R$"
   ]
  },
  {
   "cell_type": "markdown",
   "metadata": {},
   "source": [
    "$y_n$ is the predicted number of infected individuals in the $buffalo \\ \\  population$ after $n$ days"
   ]
  },
  {
   "cell_type": "code",
   "execution_count": 24,
   "metadata": {},
   "outputs": [],
   "source": [
    "def logistic_non_recursive(n, r, M):\n",
    "    K = [1]\n",
    "    for v in range(1, (n + 1)):\n",
    "        K.append(K[v - 1] + r * K[v - 1] * (M - K[v - 1]))\n",
    "\n",
    "    return K[n]"
   ]
  },
  {
   "cell_type": "code",
   "execution_count": 25,
   "metadata": {},
   "outputs": [],
   "source": [
    "M = 48000\n",
    "\n",
    "r_without_preventative_measures = 2.1 * 10**(-6)\n",
    "\n",
    "r_with_preventative_measures = 6.7 * 10**(-7)"
   ]
  },
  {
   "cell_type": "code",
   "execution_count": 26,
   "metadata": {},
   "outputs": [
    {
     "data": {
      "text/plain": [
       "1"
      ]
     },
     "execution_count": 26,
     "metadata": {},
     "output_type": "execute_result"
    }
   ],
   "source": [
    "logistic_non_recursive(0, r_with_preventative_measures, M)"
   ]
  },
  {
   "cell_type": "code",
   "execution_count": 27,
   "metadata": {},
   "outputs": [
    {
     "data": {
      "text/plain": [
       "47999.99999999989"
      ]
     },
     "execution_count": 27,
     "metadata": {},
     "output_type": "execute_result"
    }
   ],
   "source": [
    "logistic_non_recursive(23615, r_with_preventative_measures, M)"
   ]
  },
  {
   "cell_type": "markdown",
   "metadata": {},
   "source": [
    "Calculating the first $n$ For $y_n ≥ 48000/2$ with preventative mearsures"
   ]
  },
  {
   "cell_type": "code",
   "execution_count": 28,
   "metadata": {},
   "outputs": [],
   "source": [
    "n = 0\n",
    "M_buffalo = 48000\n",
    "r_with_preventative_measures = 6.7 * 10**(-7)\n",
    "k = 48000 / 2\n",
    "while logistic_non_recursive(n, r_with_preventative_measures, M_buffalo) <= k:\n",
    "    n += 1"
   ]
  },
  {
   "cell_type": "code",
   "execution_count": 29,
   "metadata": {},
   "outputs": [
    {
     "data": {
      "text/plain": [
       "340"
      ]
     },
     "execution_count": 29,
     "metadata": {},
     "output_type": "execute_result"
    }
   ],
   "source": [
    "n"
   ]
  },
  {
   "cell_type": "markdown",
   "metadata": {},
   "source": [
    "$Therefore\\  n≥340$"
   ]
  },
  {
   "cell_type": "markdown",
   "metadata": {},
   "source": [
    "$Question \\ 4.3$"
   ]
  },
  {
   "cell_type": "markdown",
   "metadata": {},
   "source": [
    "Calculating the first $n$ For $y_n ≥ 48000/2$ without preventative mearsures"
   ]
  },
  {
   "cell_type": "code",
   "execution_count": 32,
   "metadata": {},
   "outputs": [],
   "source": [
    "n = 0\n",
    "M_buffalo = 48000\n",
    "g = 48000 / 2\n",
    "r_without_preventative_measures = 2.1 * 10**(-6)\n",
    "\n",
    "while logistic_non_recursive(n, r_without_preventative_measures, M_buffalo) <= g:\n",
    "    n += 1"
   ]
  },
  {
   "cell_type": "code",
   "execution_count": 33,
   "metadata": {},
   "outputs": [
    {
     "data": {
      "text/plain": [
       "112"
      ]
     },
     "execution_count": 33,
     "metadata": {},
     "output_type": "execute_result"
    }
   ],
   "source": [
    "n"
   ]
  },
  {
   "cell_type": "markdown",
   "metadata": {},
   "source": [
    "$Therefore\\  n≥112$"
   ]
  }
 ],
 "metadata": {
  "kernelspec": {
   "display_name": "Python 3",
   "language": "python",
   "name": "python3"
  },
  "language_info": {
   "codemirror_mode": {
    "name": "ipython",
    "version": 3
   },
   "file_extension": ".py",
   "mimetype": "text/x-python",
   "name": "python",
   "nbconvert_exporter": "python",
   "pygments_lexer": "ipython3",
   "version": "3.7.4"
  }
 },
 "nbformat": 4,
 "nbformat_minor": 2
}
