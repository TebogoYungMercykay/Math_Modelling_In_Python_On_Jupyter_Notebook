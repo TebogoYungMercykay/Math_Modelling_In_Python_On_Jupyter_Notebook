{
 "cells": [
  {
   "cell_type": "markdown",
   "metadata": {},
   "source": [
    "$G$ $Non-Recursive$"
   ]
  },
  {
   "cell_type": "code",
   "execution_count": 18,
   "metadata": {},
   "outputs": [],
   "source": [
    "def g_non_recursive(n):\n",
    "    K = [8,5,2]\n",
    "    for e in range (3, n+1):\n",
    "       K.append(8*K[e-1] + K[e-2])\n",
    "    return K[n]"
   ]
  },
  {
   "cell_type": "code",
   "execution_count": 19,
   "metadata": {},
   "outputs": [
    {
     "data": {
      "text/plain": [
       "8"
      ]
     },
     "execution_count": 19,
     "metadata": {},
     "output_type": "execute_result"
    }
   ],
   "source": [
    "g_non_recursive(0)"
   ]
  },
  {
   "cell_type": "code",
   "execution_count": 20,
   "metadata": {},
   "outputs": [
    {
     "data": {
      "text/plain": [
       "366262860582250143079935467844980279837993940671375738243350014746730204276817722562546730"
      ]
     },
     "execution_count": 20,
     "metadata": {},
     "output_type": "execute_result"
    }
   ],
   "source": [
    "g_non_recursive(100)"
   ]
  },
  {
   "cell_type": "code",
   "execution_count": 21,
   "metadata": {},
   "outputs": [
    {
     "data": {
      "text/plain": [
       "32226487521550014514129830068492461712374713111175865790780489386317462436763480011163966385776814008748678634391151964083512849096397097404955916641320320156532848583444830402622895470273580053221885091857633202081042181655941858618433108075651686989210248761779274805962"
      ]
     },
     "execution_count": 21,
     "metadata": {},
     "output_type": "execute_result"
    }
   ],
   "source": [
    "g_non_recursive(300)"
   ]
  },
  {
   "cell_type": "code",
   "execution_count": 22,
   "metadata": {},
   "outputs": [
    {
     "data": {
      "text/plain": [
       "205912772942797190492824979491403467640626064996081016141957418699727489382005270960178455139731148582815109562802998356752612592500164894847539181205003687227727226164773153012597074816677729056066506337702238563719251428599933210549909690490895666614847275206950843349274558947152655894016526838940028189706895411957607157723376646358997619891100540128002914881094227711675972136907918645349388899785563640586048295877320850321020406449692505187716208516320139163546487080505617884379506534912045336565020670739872946641857028495250786420218667525870698421801941994673269563775397845209871201446623937623283189727785725492766630335934082062424400643913820343191151993947880500422169012355694300136714500843943560773411396419649388397188688205309235915375381137319765011789088587488604712418067594402672615355349557319544615251935202499328109592047336964387516771152874919598382526450267167598755967868820730"
      ]
     },
     "execution_count": 22,
     "metadata": {},
     "output_type": "execute_result"
    }
   ],
   "source": [
    "g_non_recursive(1000)"
   ]
  }
 ],
 "metadata": {
  "kernelspec": {
   "display_name": "Python 3",
   "language": "python",
   "name": "python3"
  },
  "language_info": {
   "codemirror_mode": {
    "name": "ipython",
    "version": 3
   },
   "file_extension": ".py",
   "mimetype": "text/x-python",
   "name": "python",
   "nbconvert_exporter": "python",
   "pygments_lexer": "ipython3",
   "version": "3.7.4"
  }
 },
 "nbformat": 4,
 "nbformat_minor": 2
}
