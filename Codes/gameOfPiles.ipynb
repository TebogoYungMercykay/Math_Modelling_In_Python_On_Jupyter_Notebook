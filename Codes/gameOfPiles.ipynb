{
 "cells": [
  {
   "cell_type": "code",
   "execution_count": 110,
   "metadata": {},
   "outputs": [
    {
     "name": "stdout",
     "output_type": "stream",
     "text": [
      "Alex wins the game of pile(s)\n"
     ]
    }
   ],
   "source": [
    "import random\n",
    "\n",
    "def IsEmpty(piles):\n",
    "    for x in piles:\n",
    "        if x != 0:\n",
    "            return False\n",
    "    return True\n",
    "\n",
    "# L = [2,1,2]\n",
    "# print(is_empty(L))\n",
    "\n",
    "def gameOfPiles(piles, k):\n",
    "    # Write your code here\n",
    "    if (len(piles) < 1 or len(piles) > 10**5):\n",
    "        return \"Incorrect Array Size\"\n",
    "    elif k < 1 or k > 1000:\n",
    "        return \"Invalid k value\"\n",
    "    else:\n",
    "        for i in range(0, len(piles)):\n",
    "            if piles[i] < 1 or piles[i] > 1000:\n",
    "                return \"Invalid Piles at index \" + str(i) + \" provided\"\n",
    "    Sam = True\n",
    "    index = 0\n",
    "    while IsEmpty(piles) == False and len(piles) != 0:\n",
    "        if(index == len(piles)):\n",
    "            index = 0\n",
    "        if piles[index] != 0:\n",
    "            if k < piles[index]:\n",
    "                piles[index] = piles[index] - k\n",
    "                if Sam == True:\n",
    "                    Sam = False\n",
    "                else:\n",
    "                    Sam = True\n",
    "                # break\n",
    "            elif k >= piles[index]:\n",
    "                piles[index] -= piles[index]\n",
    "                if Sam == True:\n",
    "                    Sam = False\n",
    "                else:\n",
    "                    Sam = True\n",
    "                # break\n",
    "        index += 1\n",
    "    if Sam == True:\n",
    "        return \"Sam wins the game of pile(s)\"\n",
    "    else:\n",
    "        return \"Alex wins the game of pile(s)\"\n",
    "\n",
    "L = [2,1,2,4,5,6,7,8,9,2]\n",
    "print(gameOfPiles(L, 2))"
   ]
  }
 ],
 "metadata": {
  "kernelspec": {
   "display_name": "Python 3",
   "language": "python",
   "name": "python3"
  },
  "language_info": {
   "codemirror_mode": {
    "name": "ipython",
    "version": 3
   },
   "file_extension": ".py",
   "mimetype": "text/x-python",
   "name": "python",
   "nbconvert_exporter": "python",
   "pygments_lexer": "ipython3",
   "version": "3.10.7"
  },
  "orig_nbformat": 4
 },
 "nbformat": 4,
 "nbformat_minor": 2
}
