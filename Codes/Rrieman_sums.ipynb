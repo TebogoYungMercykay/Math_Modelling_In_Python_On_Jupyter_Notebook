{
 "cells": [
  {
   "cell_type": "markdown",
   "metadata": {},
   "source": [
    "$Rrieman$ $Sums$"
   ]
  },
  {
   "cell_type": "code",
   "execution_count": null,
   "metadata": {},
   "outputs": [],
   "source": [
    "import numpy as np\n",
    "f = lambda x : np.log(x)"
   ]
  },
  {
   "cell_type": "code",
   "execution_count": 13,
   "metadata": {},
   "outputs": [],
   "source": [
    "a = 1\n",
    "b = 2.718281828**3\n",
    "n = 4"
   ]
  },
  {
   "cell_type": "code",
   "execution_count": 14,
   "metadata": {},
   "outputs": [],
   "source": [
    "dx = (b - a) / n"
   ]
  },
  {
   "cell_type": "code",
   "execution_count": 15,
   "metadata": {},
   "outputs": [],
   "source": [
    "import numpy as npp\n",
    "x_left = npp.linspace(a, (b - dx), n)\n",
    "x_midpoint = npp.linspace((dx / 2), ((b - dx) / 2), n)\n",
    "x_right = npp.linspace(dx, b, n)"
   ]
  },
  {
   "cell_type": "code",
   "execution_count": 16,
   "metadata": {},
   "outputs": [],
   "source": [
    "lef = npp.sum(f(x_left)/2 * x_left * dx)\n",
    "mid = npp.sum(f(x_midpoint)/2 * x_midpoint * dx)\n",
    "rig = npp.sum(f(x_right)/2 * x_right * dx)"
   ]
  },
  {
   "cell_type": "code",
   "execution_count": 17,
   "metadata": {},
   "outputs": [
    {
     "name": "stdout",
     "output_type": "stream",
     "text": [
      "Unit 5.1 Example 3 for WTW_134 (*_*)\n",
      "Left Rieman Sum:  183.07444067504406\n",
      "Middle Rieman Sum:  238.3927977677236\n",
      "right Rieman Sum:  312.2384998295778\n",
      "The distance covered in 15 seconds is approximately:  247.65647025231092\n"
     ]
    }
   ],
   "source": [
    "print( \"Unit 5.1 Example 3 for WTW_134 (*_*)\")\n",
    "print(\"Left Rieman Sum: \", lef)\n",
    "print(\"Middle Rieman Sum: \", mid)\n",
    "print(\"right Rieman Sum: \", rig)\n",
    "\n",
    "print(\"The distance covered in 15 seconds is approximately: \",(lef+rig)/2)"
   ]
  }
 ],
 "metadata": {
  "kernelspec": {
   "display_name": "Python 3",
   "language": "python",
   "name": "python3"
  },
  "language_info": {
   "codemirror_mode": {
    "name": "ipython",
    "version": 3
   },
   "file_extension": ".py",
   "mimetype": "text/x-python",
   "name": "python",
   "nbconvert_exporter": "python",
   "pygments_lexer": "ipython3",
   "version": "3.10.7"
  }
 },
 "nbformat": 4,
 "nbformat_minor": 2
}
