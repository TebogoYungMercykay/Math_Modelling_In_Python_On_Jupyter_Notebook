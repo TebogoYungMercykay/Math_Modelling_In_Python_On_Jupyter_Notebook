{
 "cells": [
  {
   "cell_type": "markdown",
   "metadata": {},
   "source": [
    "$Linearisation$"
   ]
  },
  {
   "cell_type": "markdown",
   "metadata": {},
   "source": [
    "Linearisation of the equation $y = ae^{bx}$ by when performing a least squares fit."
   ]
  },
  {
   "cell_type": "markdown",
   "metadata": {},
   "source": [
    "The Linearized form is: $\\ln y = bx + \\ln a$"
   ]
  },
  {
   "cell_type": "code",
   "execution_count": 1,
   "metadata": {},
   "outputs": [],
   "source": [
    "TheDataPoints = [(0.03, 3.25), (0.07,  3.5), (0.21, 3.98), (0.76, 6.55), (1.2, 9.83), (1.21, 10.32), (1.59, 15.18)]"
   ]
  },
  {
   "cell_type": "code",
   "execution_count": 22,
   "metadata": {},
   "outputs": [],
   "source": [
    "import numpy as npyy\n",
    "import matplotlib.pyplot as mppt"
   ]
  },
  {
   "cell_type": "code",
   "execution_count": 62,
   "metadata": {},
   "outputs": [],
   "source": [
    "X, Y = zip(*Missle_A_data)\n",
    "F, Z = zip(*Missle_B_data)\n",
    "K, P = zip(*Missle_C_data)\n",
    "R, G = zip(*Missle_D_data)\n",
    "\n",
    "Missle_A_data_Values = npyy.polyfit(X, Y, 2)\n",
    "Missle_B_data_Values = npyy.polyfit(F, Z, 2)\n",
    "Missle_C_data_Values = npyy.polyfit(K, P, 2)\n",
    "Missle_D_data_Values = npyy.polyfit(R, G, 2)\n",
    "\n",
    "g = npyy.poly1d(Missle_A_data_Values)\n",
    "f = npyy.poly1d(Missle_B_data_Values)\n",
    "h = npyy.poly1d(Missle_C_data_Values)\n",
    "p = npyy.poly1d(Missle_D_data_Values)"
   ]
  },
  {
   "cell_type": "code",
   "execution_count": 63,
   "metadata": {},
   "outputs": [
    {
     "data": {
      "text/plain": [
       "array([-1.55421765e-03, -1.84436012e+00,  7.31105283e+02])"
      ]
     },
     "execution_count": 63,
     "metadata": {},
     "output_type": "execute_result"
    }
   ],
   "source": [
    "Missle_A_data_Values"
   ]
  },
  {
   "cell_type": "code",
   "execution_count": 64,
   "metadata": {},
   "outputs": [
    {
     "data": {
      "text/plain": [
       "array([2.76125971e-03, 2.01853761e+00, 1.10280695e+03])"
      ]
     },
     "execution_count": 64,
     "metadata": {},
     "output_type": "execute_result"
    }
   ],
   "source": [
    "Missle_B_data_Values"
   ]
  },
  {
   "cell_type": "code",
   "execution_count": 65,
   "metadata": {},
   "outputs": [
    {
     "data": {
      "text/plain": [
       "array([-5.50077768e-04, -4.14677801e-01,  6.43740186e+02])"
      ]
     },
     "execution_count": 65,
     "metadata": {},
     "output_type": "execute_result"
    }
   ],
   "source": [
    "Missle_C_data_Values"
   ]
  },
  {
   "cell_type": "code",
   "execution_count": 66,
   "metadata": {},
   "outputs": [
    {
     "data": {
      "text/plain": [
       "array([-7.64819927e-04, -1.07717140e+00,  9.99259139e+01])"
      ]
     },
     "execution_count": 66,
     "metadata": {},
     "output_type": "execute_result"
    }
   ],
   "source": [
    "Missle_D_data_Values"
   ]
  },
  {
   "cell_type": "code",
   "execution_count": 67,
   "metadata": {},
   "outputs": [
    {
     "data": {
      "image/png": "[encoded data removed]",
      "text/plain": [
       "<Figure size 432x288 with 1 Axes>"
      ]
     },
     "metadata": {
      "needs_background": "light"
     },
     "output_type": "display_data"
    }
   ],
   "source": [
    "fig = mppt.figure()\n",
    "ax = mppt.axes()\n",
    "X, Y = zip(*Missle_A_data)\n",
    "\n",
    "X = npyy.linspace(0, 300, 50)\n",
    "Y = g(X)\n",
    "\n",
    "mppt.scatter(X, Y)\n",
    "mppt.show()"
   ]
  },
  {
   "cell_type": "code",
   "execution_count": 73,
   "metadata": {},
   "outputs": [
    {
     "data": {
      "image/png": "[encoded data removed]",
      "text/plain": [
       "<Figure size 432x288 with 1 Axes>"
      ]
     },
     "metadata": {
      "needs_background": "light"
     },
     "output_type": "display_data"
    }
   ],
   "source": [
    "fig = mppt.figure()\n",
    "ax = mppt.axes()\n",
    "\n",
    "F, Z = zip(*Missle_B_data)\n",
    "F = npyy.linspace(0, 300, 50)\n",
    "Z = f(F)\n",
    "\n",
    "mppt.scatter(F, Z)\n",
    "mppt.show()"
   ]
  },
  {
   "cell_type": "code",
   "execution_count": 74,
   "metadata": {},
   "outputs": [
    {
     "data": {
      "image/png": "[encoded data removed]",
      "text/plain": [
       "<Figure size 432x288 with 1 Axes>"
      ]
     },
     "metadata": {
      "needs_background": "light"
     },
     "output_type": "display_data"
    }
   ],
   "source": [
    "fig = mppt.figure()\n",
    "ax = mppt.axes()\n",
    "\n",
    "R, G = zip(*Missle_D_data)\n",
    "R = npyy.linspace(0, 300, 50)\n",
    "G = p(R)\n",
    "\n",
    "mppt.scatter(R, G)\n",
    "mppt.show()"
   ]
  },
  {
   "cell_type": "code",
   "execution_count": 75,
   "metadata": {},
   "outputs": [
    {
     "data": {
      "image/png": "[encoded data removed]",
      "text/plain": [
       "<Figure size 432x288 with 1 Axes>"
      ]
     },
     "metadata": {
      "needs_background": "light"
     },
     "output_type": "display_data"
    }
   ],
   "source": [
    "fig = mppt.figure()\n",
    "ax = mppt.axes()\n",
    "\n",
    "R, G = zip(*Missle_D_data)\n",
    "R = npyy.linspace(0, 300, 50)\n",
    "G = p(R)\n",
    "\n",
    "mppt.scatter(R, G)\n",
    "mppt.show()"
   ]
  }
 ],
 "metadata": {
  "kernelspec": {
   "display_name": "Python 3",
   "language": "python",
   "name": "python3"
  },
  "language_info": {
   "codemirror_mode": {
    "name": "ipython",
    "version": 3
   },
   "file_extension": ".py",
   "mimetype": "text/x-python",
   "name": "python",
   "nbconvert_exporter": "python",
   "pygments_lexer": "ipython3",
   "version": "3.7.4"
  }
 },
 "nbformat": 4,
 "nbformat_minor": 2
}
