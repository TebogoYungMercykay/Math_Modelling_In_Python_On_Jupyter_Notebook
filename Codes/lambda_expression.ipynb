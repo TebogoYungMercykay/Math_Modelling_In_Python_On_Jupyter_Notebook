{
 "cells": [
  {
   "cell_type": "markdown",
   "metadata": {},
   "source": [
    "$Lambda$ $Expressions$"
   ]
  },
  {
   "cell_type": "markdown",
   "metadata": {},
   "source": [
    "$g(x):=0.0001x^2-0.0194x+1.6909 \\quad(x\\in\\mathbb R)$"
   ]
  },
  {
   "cell_type": "code",
   "execution_count": 15,
   "metadata": {},
   "outputs": [],
   "source": [
    "g = lambda x: 0.0001 * x**2 - 0.0194 * x + 1.6909"
   ]
  },
  {
   "cell_type": "code",
   "execution_count": 16,
   "metadata": {},
   "outputs": [],
   "source": [
    "import sympy\n",
    "import math\n",
    "from sympy.abc import x"
   ]
  },
  {
   "cell_type": "code",
   "execution_count": 17,
   "metadata": {},
   "outputs": [],
   "source": [
    "import matplotlib.pyplot as plty\n",
    "import numpy as npy\n",
    "\n",
    "X = npy.linspace(0, 200, 100)\n",
    "Y = g(X)"
   ]
  },
  {
   "cell_type": "code",
   "execution_count": 18,
   "metadata": {},
   "outputs": [
    {
     "data": {
      "text/latex": [
       "$\\displaystyle 0.0001 x^{2} - 0.0194 x + 1.6909$"
      ],
      "text/plain": [
       "0.0001*x**2 - 0.0194*x + 1.6909"
      ]
     },
     "execution_count": 18,
     "metadata": {},
     "output_type": "execute_result"
    }
   ],
   "source": [
    "g(x)"
   ]
  },
  {
   "cell_type": "code",
   "execution_count": 19,
   "metadata": {},
   "outputs": [
    {
     "data": {
      "text/plain": [
       "[47.0000000000000, 147.000000000000]"
      ]
     },
     "execution_count": 19,
     "metadata": {},
     "output_type": "execute_result"
    }
   ],
   "source": [
    "sympy.solve(sympy.Eq(g(x), 1), x)"
   ]
  },
  {
   "cell_type": "markdown",
   "metadata": {},
   "source": [
    "the three Equilibria are 0, 47, 147"
   ]
  },
  {
   "cell_type": "code",
   "execution_count": 25,
   "metadata": {},
   "outputs": [
    {
     "data": {
      "text/plain": [
       "array([1.6909    , 1.6521162 , 1.61414865, 1.57699734, 1.54066227,\n",
       "       1.50514344, 1.47044086, 1.43655453, 1.40348443, 1.37123058,\n",
       "       1.33979297, 1.3091716 , 1.27936648, 1.2503776 , 1.22220497,\n",
       "       1.19484858, 1.16830843, 1.14258452, 1.11767686, 1.09358544,\n",
       "       1.07031026, 1.04785133, 1.02620864, 1.0053822 , 0.98537199,\n",
       "       0.96617803, 0.94780032, 0.93023884, 0.91349361, 0.89756463,\n",
       "       0.88245188, 0.86815538, 0.85467512, 0.84201111, 0.83016334,\n",
       "       0.81913181, 0.80891653, 0.79951749, 0.79093469, 0.78316814,\n",
       "       0.77621782, 0.77008376, 0.76476593, 0.76026435, 0.75657901,\n",
       "       0.75370992, 0.75165707, 0.75042046, 0.75000009, 0.75039597,\n",
       "       0.75160809, 0.75363646, 0.75648106, 0.76014191, 0.76461901,\n",
       "       0.76991235, 0.77602193, 0.78294775, 0.79068982, 0.79924813,\n",
       "       0.80862268, 0.81881348, 0.82982052, 0.8416438 , 0.85428333,\n",
       "       0.8677391 , 0.88201111, 0.89709937, 0.91300387, 0.92972461,\n",
       "       0.9472616 , 0.96561483, 0.9847843 , 1.00477001, 1.02557197,\n",
       "       1.04719017, 1.06962462, 1.09287531, 1.11694224, 1.14182542,\n",
       "       1.16752483, 1.1940405 , 1.2213724 , 1.24952055, 1.27848494,\n",
       "       1.30826557, 1.33886245, 1.37027557, 1.40250494, 1.43555055,\n",
       "       1.4694124 , 1.50409049, 1.53958483, 1.57589541, 1.61302223,\n",
       "       1.6509653 , 1.68972461, 1.72930016, 1.76969196, 1.8109    ])"
      ]
     },
     "execution_count": 25,
     "metadata": {},
     "output_type": "execute_result"
    }
   ],
   "source": [
    "Y"
   ]
  },
  {
   "cell_type": "code",
   "execution_count": 26,
   "metadata": {},
   "outputs": [
    {
     "data": {
      "image/png": "[encoded data removed]",
      "text/plain": [
       "<Figure size 432x288 with 1 Axes>"
      ]
     },
     "metadata": {
      "needs_background": "light"
     },
     "output_type": "display_data"
    }
   ],
   "source": [
    "fig = plty.figure()\n",
    "ax = plty.axes()\n",
    "ax.plot(X, Y, \"-\")\n",
    "\n",
    "plty.show()"
   ]
  }
 ],
 "metadata": {
  "kernelspec": {
   "display_name": "Python 3",
   "language": "python",
   "name": "python3"
  },
  "language_info": {
   "codemirror_mode": {
    "name": "ipython",
    "version": 3
   },
   "file_extension": ".py",
   "mimetype": "text/x-python",
   "name": "python",
   "nbconvert_exporter": "python",
   "pygments_lexer": "ipython3",
   "version": "3.7.4"
  }
 },
 "nbformat": 4,
 "nbformat_minor": 2
}
