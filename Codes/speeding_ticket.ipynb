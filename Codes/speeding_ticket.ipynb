{
 "cells": [
  {
   "cell_type": "code",
   "execution_count": 1,
   "metadata": {},
   "outputs": [],
   "source": [
    "def speeding_ticket(speed_limit, clock_speed):\n",
    "    price = 50\n",
    "    penalty = 200\n",
    "    additional = 5\n",
    "    if(clock_speed > speed_limit):\n",
    "        for i in range (0, (clock_speed - speed_limit)):\n",
    "            price += additional\n",
    "        if(clock_speed > 90):\n",
    "            price += penalty\n",
    "        print(\"You Ticket amount is: \", price)\n",
    "    else:\n",
    "        print(\"No Ticket this time!\")"
   ]
  },
  {
   "cell_type": "code",
   "execution_count": 2,
   "metadata": {},
   "outputs": [
    {
     "name": "stdout",
     "output_type": "stream",
     "text": [
      "You Ticket amount is:  105\n"
     ]
    }
   ],
   "source": [
    "speeding_ticket(60, 71)"
   ]
  }
 ],
 "metadata": {
  "kernelspec": {
   "display_name": "Python 3.10.7 64-bit",
   "language": "python",
   "name": "python3"
  },
  "language_info": {
   "codemirror_mode": {
    "name": "ipython",
    "version": 3
   },
   "file_extension": ".py",
   "mimetype": "text/x-python",
   "name": "python",
   "nbconvert_exporter": "python",
   "pygments_lexer": "ipython3",
   "version": "3.10.7"
  },
  "orig_nbformat": 4,
  "vscode": {
   "interpreter": {
    "hash": "959c77e4b479be1f8b8e41a91c7aad30c662a19416d8ea788f90404ecb4bb144"
   }
  }
 },
 "nbformat": 4,
 "nbformat_minor": 2
}
