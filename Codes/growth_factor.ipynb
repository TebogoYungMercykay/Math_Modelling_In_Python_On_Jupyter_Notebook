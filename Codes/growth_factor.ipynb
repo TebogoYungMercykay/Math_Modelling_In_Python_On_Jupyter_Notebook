{
 "cells": [
  {
   "cell_type": "markdown",
   "metadata": {},
   "source": [
    "For $x \\in \\mathbb\\ R$ define $g(x):= x^2/23400 - 7x/1950 + 1207/1170$"
   ]
  },
  {
   "cell_type": "code",
   "execution_count": 19,
   "metadata": {},
   "outputs": [],
   "source": [
    "growth_factor = lambda x: x**2/23400 - 7 * x / 1950 + 1207 / 1170"
   ]
  },
  {
   "cell_type": "code",
   "execution_count": 20,
   "metadata": {},
   "outputs": [],
   "source": [
    "import sympy\n",
    "import math\n",
    "from sympy.abc import x"
   ]
  },
  {
   "cell_type": "code",
   "execution_count": 21,
   "metadata": {},
   "outputs": [
    {
     "data": {
      "text/latex": [
       "$\\displaystyle \\frac{x^{2}}{23400} - \\frac{7 x}{1950} + 1.03162393162393$"
      ],
      "text/plain": [
       "x**2/23400 - 7*x/1950 + 1.03162393162393"
      ]
     },
     "execution_count": 21,
     "metadata": {},
     "output_type": "execute_result"
    }
   ],
   "source": [
    "growth_factor(x)"
   ]
  },
  {
   "cell_type": "code",
   "execution_count": 22,
   "metadata": {},
   "outputs": [
    {
     "data": {
      "text/plain": [
       "[9.99999999999941, 74.0000000000006]"
      ]
     },
     "execution_count": 22,
     "metadata": {},
     "output_type": "execute_result"
    }
   ],
   "source": [
    "sympy.solve(sympy.Eq(growth_factor(x), 1), x)"
   ]
  },
  {
   "cell_type": "code",
   "execution_count": 23,
   "metadata": {},
   "outputs": [
    {
     "data": {
      "text/plain": [
       "[42.0 - 149.586095610521*I, 42.0 + 149.586095610521*I]"
      ]
     },
     "execution_count": 23,
     "metadata": {},
     "output_type": "execute_result"
    }
   ],
   "source": [
    "sympy.solve(sympy.Eq(growth_factor(x), 0), x)"
   ]
  },
  {
   "cell_type": "code",
   "execution_count": 24,
   "metadata": {},
   "outputs": [
    {
     "data": {
      "text/plain": [
       "(0, 9.99999999999941, 42.0, 74.0000000000006)"
      ]
     },
     "execution_count": 24,
     "metadata": {},
     "output_type": "execute_result"
    }
   ],
   "source": [
    "First_Equilibria = 0\n",
    "Second_Equilibria = 9.99999999999941\n",
    "Third_Equilibria = 42.0\n",
    "Fourth_Equilibria = 74.0000000000006\n",
    "# Printing\n",
    "First_Equilibria, Second_Equilibria ,Third_Equilibria, Fourth_Equilibria\n"
   ]
  },
  {
   "cell_type": "markdown",
   "metadata": {},
   "source": [
    "Therefore the Equilibria are: $0,$ $9.99999999999941,$ $42.0,$ $74.0000000000006$"
   ]
  },
  {
   "cell_type": "code",
   "execution_count": 38,
   "metadata": {},
   "outputs": [
    {
     "data": {
      "image/png": "[encoded data removed]",
      "text/plain": [
       "<Figure size 432x288 with 1 Axes>"
      ]
     },
     "metadata": {
      "needs_background": "light"
     },
     "output_type": "display_data"
    }
   ],
   "source": [
    "import matplotlib.pyplot as plty\n",
    "import numpy as npy\n",
    "\n",
    "fig = plty.figure()\n",
    "ax = plty.axes()\n",
    "\n",
    "X = npy.linspace(0, 100, 100)\n",
    "Y = growth_factor(X)\n",
    "\n",
    "ax.plot(X, Y, \"-\")\n",
    "\n",
    "plty.show()"
   ]
  },
  {
   "cell_type": "code",
   "execution_count": 39,
   "metadata": {},
   "outputs": [
    {
     "data": {
      "text/plain": [
       "1.0403846153846155"
      ]
     },
     "execution_count": 39,
     "metadata": {},
     "output_type": "execute_result"
    }
   ],
   "source": [
    "growth_factor(55)"
   ]
  }
 ],
 "metadata": {
  "kernelspec": {
   "display_name": "Python 3",
   "language": "python",
   "name": "python3"
  },
  "language_info": {
   "codemirror_mode": {
    "name": "ipython",
    "version": 3
   },
   "file_extension": ".py",
   "mimetype": "text/x-python",
   "name": "python",
   "nbconvert_exporter": "python",
   "pygments_lexer": "ipython3",
   "version": "3.7.4"
  }
 },
 "nbformat": 4,
 "nbformat_minor": 2
}
