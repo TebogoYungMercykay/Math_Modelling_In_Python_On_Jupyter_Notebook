{
 "cells": [
  {
   "cell_type": "markdown",
   "metadata": {},
   "source": [
    "$Polyfit$"
   ]
  },
  {
   "cell_type": "code",
   "execution_count": null,
   "metadata": {},
   "outputs": [],
   "source": [
    "import numpy as npyy\n",
    "import matplotlib.pyplot as mppt"
   ]
  },
  {
   "cell_type": "code",
   "execution_count": 178,
   "metadata": {},
   "outputs": [],
   "source": [
    "TheDataPoints = [\n",
    "    (-120.05237090694067, 930.1249822492173),\n",
    "    (-981.2467441746327, 521.6488875435189),\n",
    "    (-359.80045288785055, 737.578109575062),\n",
    "    (-940.6364671538131, 547.611479069524),\n",
    "    (-1015.3468441889291, 498.1838997403989),\n",
    "    (-409.83121804149187, 751.0539913236357),\n",
    "    (-260.3518352797322, 328.52995061690956),\n",
    "    (-125.51183349571542, 223.08350255310657),\n",
    "    (-310.8965520716082, 1154.286594651248),\n",
    "    (-434.12309575042264, 1238.8717578489673),\n",
    "    (-353.37478290273424, 735.5475531968729),\n",
    "    (-327.8727423525763, 726.786582033227),\n",
    "    (-158.9656143665593, 251.81885152562012),\n",
    "    (-298.94051309200603, 1143.5846883538977),\n",
    "    (-153.07014470542418, 246.88573104529192),\n",
    "    (-1071.010317126787, 456.59902579881594),\n",
    "    (-224.4768723154321, 1066.802551041043),\n",
    "    (-335.83748977249365, 1175.2133085235469),\n",
    "    (-867.2158258312104, 589.0893605484719),\n",
    "    (-216.71153866998225, 297.4379008839453),\n",
    "    (-180.76738965402572, 1013.7207387339963),\n",
    "    (-129.18870685834176, 226.33753305515287),\n",
    "    (-110.4150588626816, 915.7930401964322),\n",
    "    (-1089.3848278908222, 441.97278923631234),\n",
    "    (-488.0495341770337, 763.6873577080687),\n",
    "    (-327.93152405884706, 726.8035452146653),\n",
    "    (-396.6229002627526, 747.8975635439459),\n",
    "    (-99.77054758133697, 199.7735484192477),\n",
    "    (-864.6036319177803, 590.401903887385),\n",
    "    (-132.8813268900396, 229.5515697656306),\n",
    "    (-308.42210321283085, 719.3677882258944),\n",
    "    (-177.1530139796593, 266.75458246088164),\n",
    "    (-454.6982287339466, 759.5484052750057),\n",
    "    (-292.25374018107647, 1137.3611630427215),\n",
    "    (-995.9353796179176, 511.72078418615683),\n",
    "    (-1059.772663500067, 465.3141333990594)]\n"
   ]
  },
  {
   "cell_type": "code",
   "execution_count": 179,
   "metadata": {},
   "outputs": [
    {
     "data": {
      "image/png": "[encoded data removed]",
      "text/plain": [
       "<Figure size 432x288 with 1 Axes>"
      ]
     },
     "metadata": {
      "needs_background": "light"
     },
     "output_type": "display_data"
    }
   ],
   "source": [
    "fig = mppt.figure()\n",
    "ax = mppt.axes()\n",
    "Xdata, Ydata = zip(*TheDataPoints)\n",
    "\n",
    "mppt.scatter(Xdata, Ydata)\n",
    "\n",
    "mppt.show()"
   ]
  },
  {
   "cell_type": "code",
   "execution_count": 180,
   "metadata": {},
   "outputs": [
    {
     "data": {
      "text/plain": [
       "[199.7735484192477,\n",
       " 223.08350255310657,\n",
       " 226.33753305515287,\n",
       " 229.5515697656306,\n",
       " 246.88573104529192,\n",
       " 251.81885152562012,\n",
       " 266.75458246088164,\n",
       " 297.4379008839453,\n",
       " 328.52995061690956,\n",
       " 441.97278923631234,\n",
       " 456.59902579881594,\n",
       " 465.3141333990594,\n",
       " 498.1838997403989,\n",
       " 511.72078418615683,\n",
       " 521.6488875435189,\n",
       " 547.611479069524,\n",
       " 589.0893605484719,\n",
       " 590.401903887385,\n",
       " 719.3677882258944,\n",
       " 726.786582033227,\n",
       " 726.8035452146653,\n",
       " 735.5475531968729,\n",
       " 737.578109575062,\n",
       " 747.8975635439459,\n",
       " 751.0539913236357,\n",
       " 759.5484052750057,\n",
       " 763.6873577080687,\n",
       " 915.7930401964322,\n",
       " 930.1249822492173,\n",
       " 1013.7207387339963,\n",
       " 1066.802551041043,\n",
       " 1137.3611630427215,\n",
       " 1143.5846883538977,\n",
       " 1154.286594651248,\n",
       " 1175.2133085235469,\n",
       " 1238.8717578489673]"
      ]
     },
     "execution_count": 180,
     "metadata": {},
     "output_type": "execute_result"
    }
   ],
   "source": [
    "sorted(Ydata)"
   ]
  },
  {
   "cell_type": "code",
   "execution_count": 212,
   "metadata": {},
   "outputs": [
    {
     "data": {
      "text/plain": [
       "[None, None, None, None, None, None, None, None, None]"
      ]
     },
     "execution_count": 212,
     "metadata": {},
     "output_type": "execute_result"
    }
   ],
   "source": [
    "Missile_A_Y_values = []\n",
    "[Missile_A_Y_values.append(x) for x in Ydata if x > 900 and x < 1300]\n",
    "Missile_B_Y_values = []\n",
    "[Missile_B_Y_values.append(k) for k in Ydata if k > 700 and k < 800]\n",
    "Missile_C_Y_values = []\n",
    "[Missile_C_Y_values.append(p) for p in Ydata if p > 400 and p < 600]\n",
    "Missile_D_Y_values = []\n",
    "[Missile_D_Y_values.append(t) for t in Ydata if t > 100 and t < 400]"
   ]
  },
  {
   "cell_type": "code",
   "execution_count": 213,
   "metadata": {},
   "outputs": [
    {
     "data": {
      "text/plain": [
       "[930.1249822492173,\n",
       " 1154.286594651248,\n",
       " 1238.8717578489673,\n",
       " 1143.5846883538977,\n",
       " 1066.802551041043,\n",
       " 1175.2133085235469,\n",
       " 1013.7207387339963,\n",
       " 915.7930401964322,\n",
       " 1137.3611630427215]"
      ]
     },
     "execution_count": 213,
     "metadata": {},
     "output_type": "execute_result"
    }
   ],
   "source": [
    "Missile_A_Y_values"
   ]
  },
  {
   "cell_type": "code",
   "execution_count": 181,
   "metadata": {},
   "outputs": [],
   "source": [
    "Missile_D_data = [(-99.77054758133697, 199.7735484192477),\n",
    "               (-125.51183349571542, 223.08350255310657),\n",
    "               (-129.18870685834176, 226.33753305515287),\n",
    "               (-132.8813268900396, 229.5515697656306),\n",
    "               (-153.07014470542418, 246.88573104529192),\n",
    "               (-158.9656143665593, 251.81885152562012),\n",
    "               (-177.1530139796593, 266.75458246088164),\n",
    "               (-216.71153866998225, 297.4379008839453),\n",
    "               (-260.3518352797322, 328.52995061690956)]\n",
    "\n",
    "Missile_C_data = [(-1089.3848278908222, 441.97278923631234),\n",
    "               (-1071.010317126787, 456.59902579881594),\n",
    "               (-1059.772663500067, 465.3141333990594),\n",
    "               (-1015.3468441889291, 498.1838997403989),\n",
    "               (-995.9353796179176, 511.72078418615683),\n",
    "               (-981.2467441746327, 521.6488875435189),\n",
    "               (-940.6364671538131, 547.611479069524),\n",
    "               (-867.2158258312104, 589.0893605484719),\n",
    "               (-864.6036319177803, 590.401903887385)]\n",
    "\n",
    "Missile_B_data = [(-308.42210321283085, 719.3677882258944),\n",
    "                (-327.8727423525763, 726.786582033227),\n",
    "                (-327.93152405884706, 726.8035452146653),\n",
    "                (-353.37478290273424, 735.5475531968729),\n",
    "                (-359.80045288785055, 737.578109575062),\n",
    "                (-396.6229002627526, 747.8975635439459),\n",
    "                (-409.83121804149187, 751.0539913236357),\n",
    "                (-454.6982287339466, 759.5484052750057),\n",
    "                (-488.0495341770337, 763.6873577080687)]\n",
    "\n",
    "Missile_A_data = [(-110.4150588626816, 915.7930401964322),\n",
    "               (-120.05237090694067, 930.1249822492173),\n",
    "               (-180.76738965402572, 1013.7207387339963),\n",
    "               (-224.4768723154321, 1066.802551041043),\n",
    "               (-292.25374018107647, 1137.3611630427215),\n",
    "               (-298.94051309200603, 1143.5846883538977),\n",
    "               (-310.8965520716082, 1154.286594651248),\n",
    "               (-335.83748977249365, 1175.2133085235469),\n",
    "               (-434.12309575042264, 1238.8717578489673)]"
   ]
  },
  {
   "cell_type": "code",
   "execution_count": 182,
   "metadata": {},
   "outputs": [],
   "source": [
    "X, Y = zip(*Missile_A_data)\n",
    "F, Z = zip(*Missile_B_data)\n",
    "K, P = zip(*Missile_C_data)\n",
    "R, G = zip(*Missile_D_data)\n",
    "\n",
    "Missile_A_abc_Values=npyy.polyfit(X, Y, 2)\n",
    "Missile_B_abc_Values=npyy.polyfit(F, Z, 2)\n",
    "Missile_C_abc_Values=npyy.polyfit(K, P, 2)\n",
    "Missile_D_abc_Values=npyy.polyfit(R, G, 2)\n",
    "\n",
    "g = npyy.poly1d(Missile_A_abc_Values)\n",
    "f = npyy.poly1d(Missile_B_abc_Values)\n",
    "h = npyy.poly1d(Missile_C_abc_Values)\n",
    "p = npyy.poly1d(Missile_D_abc_Values)"
   ]
  },
  {
   "cell_type": "code",
   "execution_count": 183,
   "metadata": {},
   "outputs": [],
   "source": [
    "import sympy\n",
    "\n",
    "from sympy import *"
   ]
  },
  {
   "cell_type": "code",
   "execution_count": 184,
   "metadata": {},
   "outputs": [
    {
     "data": {
      "text/plain": [
       "array([-1.55434728e-03, -1.84444102e+00,  7.31093585e+02])"
      ]
     },
     "execution_count": 184,
     "metadata": {},
     "output_type": "execute_result"
    }
   ],
   "source": [
    "Missile_A_abc_Values"
   ]
  },
  {
   "cell_type": "code",
   "execution_count": 185,
   "metadata": {},
   "outputs": [],
   "source": [
    "a = 1.84444102e+00\n",
    "b = 4 * -1.55434728e-03 * 7.31093585e+02\n",
    "c = 2 * -1.55434728e-03\n",
    "d = (-1.84444102e+00)**2\n",
    "e = sympy.sqrt(d - b)"
   ]
  },
  {
   "cell_type": "code",
   "execution_count": 186,
   "metadata": {},
   "outputs": [],
   "source": [
    "Hit_A_value = (a - e)/c"
   ]
  },
  {
   "cell_type": "code",
   "execution_count": 187,
   "metadata": {},
   "outputs": [
    {
     "data": {
      "text/latex": [
       "$\\displaystyle 313.534258556805$"
      ],
      "text/plain": [
       "313.534258556805"
      ]
     },
     "execution_count": 187,
     "metadata": {},
     "output_type": "execute_result"
    }
   ],
   "source": [
    "Hit_A_value"
   ]
  },
  {
   "cell_type": "code",
   "execution_count": 188,
   "metadata": {},
   "outputs": [],
   "source": [
    "Second_Hit_A_value = (a + e)/c"
   ]
  },
  {
   "cell_type": "code",
   "execution_count": 189,
   "metadata": {},
   "outputs": [
    {
     "data": {
      "text/latex": [
       "$\\displaystyle -1500.16805895178$"
      ],
      "text/plain": [
       "-1500.16805895178"
      ]
     },
     "execution_count": 189,
     "metadata": {},
     "output_type": "execute_result"
    }
   ],
   "source": [
    "Second_Hit_A_value"
   ]
  },
  {
   "cell_type": "code",
   "execution_count": 190,
   "metadata": {},
   "outputs": [
    {
     "data": {
      "text/plain": [
       "array([-8.39839237e-04, -9.15615051e-01,  5.16862378e+02])"
      ]
     },
     "execution_count": 190,
     "metadata": {},
     "output_type": "execute_result"
    }
   ],
   "source": [
    "Missile_B_abc_Values"
   ]
  },
  {
   "cell_type": "code",
   "execution_count": 191,
   "metadata": {},
   "outputs": [],
   "source": [
    "z = 9.15615051e-01\n",
    "f = 4 * -8.39839237e-04 * 5.16862378e+02\n",
    "g = 2 * (-8.39839237e-04)\n",
    "h = (9.15615051e-01)**2\n",
    "i = sympy.sqrt(h - f)"
   ]
  },
  {
   "cell_type": "code",
   "execution_count": 192,
   "metadata": {},
   "outputs": [
    {
     "data": {
      "text/latex": [
       "$\\displaystyle 410.176530661079$"
      ],
      "text/plain": [
       "410.176530661079"
      ]
     },
     "execution_count": 192,
     "metadata": {},
     "output_type": "execute_result"
    }
   ],
   "source": [
    "Hit_Missile_B_Value = (z - i)/g\n",
    "\n",
    "Hit_Missile_B_Value"
   ]
  },
  {
   "cell_type": "code",
   "execution_count": 193,
   "metadata": {},
   "outputs": [
    {
     "data": {
      "text/latex": [
       "$\\displaystyle -1500.40310101123$"
      ],
      "text/plain": [
       "-1500.40310101123"
      ]
     },
     "execution_count": 193,
     "metadata": {},
     "output_type": "execute_result"
    }
   ],
   "source": [
    "Second_Hit_Missile_B_value = (z + i)/g\n",
    "\n",
    "Second_Hit_Missile_B_value"
   ]
  },
  {
   "cell_type": "code",
   "execution_count": 194,
   "metadata": {},
   "outputs": [
    {
     "data": {
      "text/plain": [
       "array([-6.54877812e-04, -6.19242326e-01,  5.44565256e+02])"
      ]
     },
     "execution_count": 194,
     "metadata": {},
     "output_type": "execute_result"
    }
   ],
   "source": [
    "Missile_C_abc_Values"
   ]
  },
  {
   "cell_type": "code",
   "execution_count": 195,
   "metadata": {},
   "outputs": [],
   "source": [
    "j = 6.19242326e-01\n",
    "k = 4 * -6.54877812e-04 * 5.44565256e+02\n",
    "l = 2 * -6.54877812e-04\n",
    "m = (-6.19242326e-01)**2\n",
    "n = sympy.sqrt(m - k)"
   ]
  },
  {
   "cell_type": "code",
   "execution_count": 196,
   "metadata": {},
   "outputs": [
    {
     "data": {
      "text/latex": [
       "$\\displaystyle 554.381035010105$"
      ],
      "text/plain": [
       "554.381035010105"
      ]
     },
     "execution_count": 196,
     "metadata": {},
     "output_type": "execute_result"
    }
   ],
   "source": [
    "Hit_Missile_C_value = (j - n)/l\n",
    "\n",
    "Hit_Missile_C_value"
   ]
  },
  {
   "cell_type": "code",
   "execution_count": 197,
   "metadata": {},
   "outputs": [
    {
     "data": {
      "text/latex": [
       "$\\displaystyle -1499.96556185311$"
      ],
      "text/plain": [
       "-1499.96556185311"
      ]
     },
     "execution_count": 197,
     "metadata": {},
     "output_type": "execute_result"
    }
   ],
   "source": [
    "Second_Hit_Missile_C_value = (j + n)/l\n",
    "\n",
    "Second_Hit_Missile_C_value"
   ]
  },
  {
   "cell_type": "code",
   "execution_count": 198,
   "metadata": {},
   "outputs": [
    {
     "data": {
      "text/plain": [
       "array([-7.64819927e-04, -1.07717140e+00,  9.99259139e+01])"
      ]
     },
     "execution_count": 198,
     "metadata": {},
     "output_type": "execute_result"
    }
   ],
   "source": [
    "Missile_D_abc_Values"
   ]
  },
  {
   "cell_type": "code",
   "execution_count": 199,
   "metadata": {},
   "outputs": [],
   "source": [
    "p = 1.07717140e+00\n",
    "o = 4 * -7.64819927e-04 * 9.99259139e+01\n",
    "q = 2 * -7.64819927e-04\n",
    "r = p * p\n",
    "s = sympy.sqrt(r - o)"
   ]
  },
  {
   "cell_type": "code",
   "execution_count": 200,
   "metadata": {},
   "outputs": [
    {
     "data": {
      "text/latex": [
       "$\\displaystyle 87.349503511005$"
      ],
      "text/plain": [
       "87.3495035110050"
      ]
     },
     "execution_count": 200,
     "metadata": {},
     "output_type": "execute_result"
    }
   ],
   "source": [
    "Hit_Missile_D_value = (p - s)/q\n",
    "\n",
    "Hit_Missile_D_value"
   ]
  },
  {
   "cell_type": "code",
   "execution_count": 203,
   "metadata": {},
   "outputs": [
    {
     "data": {
      "text/latex": [
       "$\\displaystyle -1495.74821538191$"
      ],
      "text/plain": [
       "-1495.74821538191"
      ]
     },
     "execution_count": 203,
     "metadata": {},
     "output_type": "execute_result"
    }
   ],
   "source": [
    "Second_Hit_Missile_D_value = (p + s)/q\n",
    "\n",
    "Second_Hit_Missile_D_value"
   ]
  }
 ],
 "metadata": {
  "kernelspec": {
   "display_name": "Python 3",
   "language": "python",
   "name": "python3"
  },
  "language_info": {
   "codemirror_mode": {
    "name": "ipython",
    "version": 3
   },
   "file_extension": ".py",
   "mimetype": "text/x-python",
   "name": "python",
   "nbconvert_exporter": "python",
   "pygments_lexer": "ipython3",
   "version": "3.7.4"
  }
 },
 "nbformat": 4,
 "nbformat_minor": 2
}
