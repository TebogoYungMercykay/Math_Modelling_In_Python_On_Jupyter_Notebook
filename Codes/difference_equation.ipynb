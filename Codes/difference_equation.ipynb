{
 "cells": [
  {
   "cell_type": "markdown",
   "metadata": {},
   "source": [
    "$Difference$ $Equations$"
   ]
  },
  {
   "cell_type": "markdown",
   "metadata": {},
   "source": [
    "With $M, r, y_0 > 0$, the logistic difference equation is defined, For $n \\in \\mathbb R$. \n",
    "\n",
    "as $y_n := y_n-_1 + ry_n-_1(M - y_n-_1).$"
   ]
  },
  {
   "cell_type": "markdown",
   "metadata": {},
   "source": [
    "$M_b:=48000$"
   ]
  },
  {
   "cell_type": "markdown",
   "metadata": {},
   "source": [
    "$y_0=1$ for $n\\in \\mathbb R$"
   ]
  },
  {
   "cell_type": "markdown",
   "metadata": {},
   "source": [
    "$y_n$ is the predicted number of infected individuals in the $buffalo \\ \\  population$ after $n$ days"
   ]
  },
  {
   "cell_type": "code",
   "execution_count": 10,
   "metadata": {},
   "outputs": [],
   "source": [
    "def logistic_non_recursive(n, r, M):\n",
    "    K = [1]\n",
    "    for v in range(1, n + 1):\n",
    "        K.append(K[v - 1] + r * K[v - 1] * (M - K[v - 1]))\n",
    "\n",
    "    return K[n]"
   ]
  },
  {
   "cell_type": "code",
   "execution_count": 11,
   "metadata": {},
   "outputs": [],
   "source": [
    "r_with_preventative_measures = 6.7 * 10**(-7)"
   ]
  },
  {
   "cell_type": "code",
   "execution_count": 12,
   "metadata": {},
   "outputs": [],
   "source": [
    "r_without_preventative_measures = 2.1 * 10**(-6)"
   ]
  },
  {
   "cell_type": "code",
   "execution_count": 13,
   "metadata": {},
   "outputs": [],
   "source": [
    "M = 48000"
   ]
  },
  {
   "cell_type": "code",
   "execution_count": 14,
   "metadata": {},
   "outputs": [
    {
     "data": {
      "text/plain": [
       "1"
      ]
     },
     "execution_count": 14,
     "metadata": {},
     "output_type": "execute_result"
    }
   ],
   "source": [
    "logistic_non_recursive(0, r_with_preventative_measures, M)"
   ]
  },
  {
   "cell_type": "code",
   "execution_count": 15,
   "metadata": {},
   "outputs": [
    {
     "data": {
      "text/plain": [
       "1.03215933"
      ]
     },
     "execution_count": 15,
     "metadata": {},
     "output_type": "execute_result"
    }
   ],
   "source": [
    "logistic_non_recursive(1, r_with_preventative_measures, M)"
   ]
  },
  {
   "cell_type": "code",
   "execution_count": 16,
   "metadata": {},
   "outputs": [
    {
     "data": {
      "text/plain": [
       "1.0996138478181348"
      ]
     },
     "execution_count": 16,
     "metadata": {},
     "output_type": "execute_result"
    }
   ],
   "source": [
    "logistic_non_recursive(3, r_with_preventative_measures , M)"
   ]
  },
  {
   "cell_type": "code",
   "execution_count": 17,
   "metadata": {},
   "outputs": [
    {
     "data": {
      "text/plain": [
       "1.333897683083141"
      ]
     },
     "execution_count": 17,
     "metadata": {},
     "output_type": "execute_result"
    }
   ],
   "source": [
    "logistic_non_recursive(3, r_without_preventative_measures, M)"
   ]
  },
  {
   "cell_type": "markdown",
   "metadata": {},
   "source": [
    "Calculating the first $n$ For $y_n ≥ 48000/2$ with preventative mearsures"
   ]
  },
  {
   "cell_type": "markdown",
   "metadata": {},
   "source": [
    "$Let \\  n =x$"
   ]
  },
  {
   "cell_type": "code",
   "execution_count": 18,
   "metadata": {},
   "outputs": [],
   "source": [
    "M = 48000\n",
    "r = 6.7 * 10**(-7)\n",
    "\n",
    "y = lambda x: (x - 1) + r * (x - 1) * (M - (x - 1))\n",
    "import sympy\n",
    "import math\n",
    "from sympy.abc import x"
   ]
  },
  {
   "cell_type": "code",
   "execution_count": 19,
   "metadata": {},
   "outputs": [
    {
     "data": {
      "text/latex": [
       "$\\displaystyle x + \\left(48001 - x\\right) \\left(6.7 \\cdot 10^{-7} x - 6.7 \\cdot 10^{-7}\\right) - 1$"
      ],
      "text/plain": [
       "x + (48001 - x)*(6.7e-7*x - 6.7e-7) - 1"
      ]
     },
     "execution_count": 19,
     "metadata": {},
     "output_type": "execute_result"
    }
   ],
   "source": [
    "y(x)"
   ]
  },
  {
   "cell_type": "markdown",
   "metadata": {},
   "source": [
    "In spimplified form $y:=(-6.7/10^7)x^2 +1.03216737x -1.03216067$"
   ]
  },
  {
   "cell_type": "markdown",
   "metadata": {},
   "source": [
    "For $y≥48000/2$, Similarly $y-48000/2≥0$..THerefore:"
   ]
  },
  {
   "cell_type": "markdown",
   "metadata": {},
   "source": [
    "$(-6.7/10^7)x^2 + 1.03216737x - 24001.03216 ≥ 0$"
   ]
  },
  {
   "cell_type": "code",
   "execution_count": 20,
   "metadata": {},
   "outputs": [],
   "source": [
    "a = -1.03216737\n",
    "k = -6.7\n",
    "p = 10**7\n",
    "b = 4 * (k / p) * (-24001.03216)\n",
    "c = 2 * (k / p)\n",
    "d = (a)**2\n",
    "e = math.sqrt(d - b)"
   ]
  },
  {
   "cell_type": "code",
   "execution_count": 21,
   "metadata": {},
   "outputs": [
    {
     "data": {
      "text/plain": [
       "1516933.2760242098"
      ]
     },
     "execution_count": 21,
     "metadata": {},
     "output_type": "execute_result"
    }
   ],
   "source": [
    "First_n = (a - e) / c\n",
    "\n",
    "First_n"
   ]
  },
  {
   "cell_type": "code",
   "execution_count": 22,
   "metadata": {},
   "outputs": [],
   "source": [
    "Second_n = (a + e) / c"
   ]
  },
  {
   "cell_type": "code",
   "execution_count": 23,
   "metadata": {},
   "outputs": [
    {
     "data": {
      "text/plain": [
       "23615.03740862616"
      ]
     },
     "execution_count": 23,
     "metadata": {},
     "output_type": "execute_result"
    }
   ],
   "source": [
    "Second_n"
   ]
  },
  {
   "cell_type": "markdown",
   "metadata": {},
   "source": [
    "Therefore the first value of $n ≥ 23615$ but $n≤1516934$\n",
    "\n",
    "which means $23615≤n≤1516934$"
   ]
  },
  {
   "cell_type": "code",
   "execution_count": 24,
   "metadata": {},
   "outputs": [
    {
     "data": {
      "text/plain": [
       "47999.99999999989"
      ]
     },
     "execution_count": 24,
     "metadata": {},
     "output_type": "execute_result"
    }
   ],
   "source": [
    "logistic_non_recursive(23615, r, M)"
   ]
  },
  {
   "cell_type": "markdown",
   "metadata": {},
   "source": [
    "Calculating the first $n$ For $y_n ≥ 48000/2$ whithout preventative measures "
   ]
  },
  {
   "cell_type": "markdown",
   "metadata": {},
   "source": [
    "$Let \\  n =x$"
   ]
  },
  {
   "cell_type": "code",
   "execution_count": 25,
   "metadata": {},
   "outputs": [],
   "source": [
    "M=48000\n",
    "r= 2.1*10**(-6)\n",
    "\n",
    "y = lambda x:(x-1) + r*(x-1)*(𝑀-(x-1))\n",
    "import sympy\n",
    "import math \n",
    "from sympy.abc import x"
   ]
  },
  {
   "cell_type": "code",
   "execution_count": 26,
   "metadata": {},
   "outputs": [
    {
     "data": {
      "text/latex": [
       "$\\displaystyle x + \\left(48001 - x\\right) \\left(2.1 \\cdot 10^{-6} x - 2.1 \\cdot 10^{-6}\\right) - 1$"
      ],
      "text/plain": [
       "x + (48001 - x)*(2.1e-6*x - 2.1e-6) - 1"
      ]
     },
     "execution_count": 26,
     "metadata": {},
     "output_type": "execute_result"
    }
   ],
   "source": [
    "y(x)"
   ]
  },
  {
   "cell_type": "markdown",
   "metadata": {},
   "source": [
    "In spimplified form $y:=(-2.1/10^6)x^2 +1.1008042x -1.1008021$"
   ]
  },
  {
   "cell_type": "markdown",
   "metadata": {},
   "source": [
    "For $y≥48000/2$, Similarly $y-48000/2≥0$..THerefore:"
   ]
  },
  {
   "cell_type": "markdown",
   "metadata": {},
   "source": [
    "$(-2.1/10^6)x^2 + 1.1008042x - 24001.1008 ≥ 0$"
   ]
  },
  {
   "cell_type": "code",
   "execution_count": 27,
   "metadata": {},
   "outputs": [],
   "source": [
    "o = -1.1008042\n",
    "f = 4 * (-2.1 / 10**6) * (-24001.1008)\n",
    "z = 2 * (-2.1 / 10**6)\n",
    "s = (o)**2\n",
    "q = math.sqrt(d - b)"
   ]
  },
  {
   "cell_type": "code",
   "execution_count": 28,
   "metadata": {},
   "outputs": [],
   "source": [
    "First_N = (o + q) / z"
   ]
  },
  {
   "cell_type": "code",
   "execution_count": 29,
   "metadata": {},
   "outputs": [],
   "source": [
    "Second_N = (o - q) / z"
   ]
  },
  {
   "cell_type": "code",
   "execution_count": 30,
   "metadata": {},
   "outputs": [
    {
     "data": {
      "text/plain": [
       "23876.423839895007"
      ]
     },
     "execution_count": 30,
     "metadata": {},
     "output_type": "execute_result"
    }
   ],
   "source": [
    "First_N"
   ]
  },
  {
   "cell_type": "code",
   "execution_count": 31,
   "metadata": {},
   "outputs": [
    {
     "data": {
      "text/plain": [
       "500316.05235058116"
      ]
     },
     "execution_count": 31,
     "metadata": {},
     "output_type": "execute_result"
    }
   ],
   "source": [
    "Second_N"
   ]
  },
  {
   "cell_type": "markdown",
   "metadata": {},
   "source": [
    "Therefore the first value of $n ≥ 23876$ but $n≤500316$\n",
    "\n",
    "which means $23876≤n≤500316$"
   ]
  }
 ],
 "metadata": {
  "kernelspec": {
   "display_name": "Python 3",
   "language": "python",
   "name": "python3"
  },
  "language_info": {
   "codemirror_mode": {
    "name": "ipython",
    "version": 3
   },
   "file_extension": ".py",
   "mimetype": "text/x-python",
   "name": "python",
   "nbconvert_exporter": "python",
   "pygments_lexer": "ipython3",
   "version": "3.7.4"
  }
 },
 "nbformat": 4,
 "nbformat_minor": 2
}
