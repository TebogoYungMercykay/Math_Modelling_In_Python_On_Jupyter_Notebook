{
 "cells": [
  {
   "cell_type": "code",
   "execution_count": 3,
   "metadata": {},
   "outputs": [],
   "source": [
    "import math\n",
    "\n",
    "A_m = 0.5\n",
    "f_m = 25\n",
    "A_c = 1\n",
    "f_c = 100\n",
    "#from 0 to 0.1 seconds\n",
    "t = 0\n",
    "# F_s = 1 / samplingtime\n",
    "def m(t):\n",
    "    return A_m * (math.cos(2 * math.pi * f_m * t))\n",
    "\n",
    "def c(t):\n",
    "    return A_c * (math.cos(2 * math.pi * f_c * t))\n",
    "\n",
    "def AM(t):\n",
    "    [A_c + m(t)] * (math.cos(2 * math.pi * f_c * t))"
   ]
  },
  {
   "cell_type": "code",
   "execution_count": 4,
   "metadata": {},
   "outputs": [
    {
     "data": {
      "text/plain": [
       "0.5"
      ]
     },
     "execution_count": 4,
     "metadata": {},
     "output_type": "execute_result"
    }
   ],
   "source": [
    "m(1)"
   ]
  },
  {
   "cell_type": "code",
   "execution_count": null,
   "metadata": {},
   "outputs": [],
   "source": [
    "import matplotlib.pyplot as plty\n",
    "import numpy as npy\n",
    "\n",
    "fig = plty.figure()\n",
    "ax = plty.axes()\n",
    "plty.xlabel(\"Time (s)\")\n",
    "plty.ylabel(\"Voltage (V)\")\n",
    "plty.title(\"Time Domain\")\n",
    "plty.grid(True)\n",
    "X = npy.linspace(0, 100, 100)\n",
    "Y = growth_factor(X)\n",
    "\n",
    "ax.plot(X, Y, \"b-\")\n",
    "\n",
    "plty.show()"
   ]
  }
 ],
 "metadata": {
  "kernelspec": {
   "display_name": "Python 3.9.13 64-bit (windows store)",
   "language": "python",
   "name": "python3"
  },
  "language_info": {
   "codemirror_mode": {
    "name": "ipython",
    "version": 3
   },
   "file_extension": ".py",
   "mimetype": "text/x-python",
   "name": "python",
   "nbconvert_exporter": "python",
   "pygments_lexer": "ipython3",
   "version": "3.9.13"
  },
  "vscode": {
   "interpreter": {
    "hash": "9370ec66551e3bf7a291a4cf4d9b0c0b52f9485ebc1b27a53f33a5a559d77750"
   }
  }
 },
 "nbformat": 4,
 "nbformat_minor": 2
}
